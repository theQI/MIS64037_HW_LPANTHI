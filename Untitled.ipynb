{
 "cells": [
  {
   "cell_type": "code",
   "execution_count": 3,
   "metadata": {
    "collapsed": false
   },
   "outputs": [
    {
     "data": {
      "text/plain": [
       "      CrimeDate         CrimeTime        CrimeCode     \n",
       " 04/27/2015:   419   18:00:00:  6162   4E     : 40283  \n",
       " 06/05/2016:   255   17:00:00:  5842   6D     : 33251  \n",
       " 06/22/2013:   192   16:00:00:  5474   5A     : 23130  \n",
       " 09/24/2016:   192   12:00:00:  5330   7A     : 22725  \n",
       " 12/20/2013:   192   20:00:00:  5298   6G     : 14643  \n",
       " 10/17/2016:   188   21:00:00:  5208   6C     : 11729  \n",
       " (Other)   :246093   (Other) :214217   (Other):101770  \n",
       "            Location                 Description    Inside.Outside  \n",
       " 200 E PRATT ST :   599   LARCENY          :54910   I      :120094  \n",
       " 300 LIGHT ST   :   533   COMMON ASSAULT   :40283   Inside :   592  \n",
       " 1500 RUSSELL ST:   479   BURGLARY         :38203   O      :117512  \n",
       " 1200 W PRATT ST:   346   LARCENY FROM AUTO:33251   Outside:  3308  \n",
       " 3500 BOSTON ST :   331   AUTO THEFT       :24192   NA's   :  6025  \n",
       " (Other)        :242337   AGG. ASSAULT     :24113                   \n",
       " NA's           :  2906   (Other)          :32579                   \n",
       "     Weapon            Post               District            Neighborhood   \n",
       " FIREARM: 19321   Min.   :111.0   NORTHEASTERN:37960   Downtown     :  8183  \n",
       " HANDS  : 43402   1st Qu.:242.0   SOUTHEASTERN:34010   Frankford    :  5870  \n",
       " KNIFE  :  8604   Median :511.0   CENTRAL     :28353   Belair-Edison:  5318  \n",
       " OTHER  : 12667   Mean   :505.2   SOUTHERN    :28053   Brooklyn     :  3818  \n",
       " NA's   :163537   3rd Qu.:723.0   NORTHERN    :27976   Cherry Hill  :  3609  \n",
       "                  Max.   :943.0   (Other)     :87807   (Other)      :217361  \n",
       "                  NA's   :3369    NA's        : 3372   NA's         :  3372  \n",
       "                           Location.1           Premise      Total.Incidents\n",
       " (39.3180000000, -76.6582100000):   495   STREET    :91509   Min.   :1      \n",
       " (39.2854400000, -76.6134000000):   452   ROW/TOWNHO:54492   1st Qu.:1      \n",
       " (39.2876100000, -76.5398200000):   410   PARKING LO:10903   Median :1      \n",
       " (39.2865900000, -76.6120400000):   365   APT/CONDO :10791   Mean   :1      \n",
       " (39.2740800000, -76.6276900000):   355   OTHER - IN:10604   3rd Qu.:1      \n",
       " (Other)                        :242552   (Other)   :62734   Max.   :1      \n",
       " NA's                           :  2902   NA's      : 6498                  "
      ]
     },
     "metadata": {},
     "output_type": "display_data"
    }
   ],
   "source": [
    "# The following command will download the file to the object CrimeRecord, with the Null values changed to <NA>.\n",
    "CR <- read.csv(\"https://data.baltimorecity.gov/api/views/wsfq-mvij/rows.csv?accessType=DOWNLOAD\", header = T, na.strings = c(\" \", \"\"))\n",
    "summary(CR)"
   ]
  },
  {
   "cell_type": "code",
   "execution_count": 4,
   "metadata": {
    "collapsed": true
   },
   "outputs": [],
   "source": [
    "# Load the libraries required to summarize data.\n",
    "library(\"dplyr\")\n",
    "library(\"tibble\")"
   ]
  },
  {
   "cell_type": "code",
   "execution_count": null,
   "metadata": {
    "collapsed": true
   },
   "outputs": [],
   "source": []
  }
 ],
 "metadata": {
  "kernelspec": {
   "display_name": "R",
   "language": "R",
   "name": "ir"
  },
  "language_info": {
   "codemirror_mode": "r",
   "file_extension": ".r",
   "mimetype": "text/x-r-source",
   "name": "R",
   "pygments_lexer": "r",
   "version": "3.3.2"
  }
 },
 "nbformat": 4,
 "nbformat_minor": 2
}
